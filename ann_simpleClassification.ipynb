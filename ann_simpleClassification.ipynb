{
 "cells": [
  {
   "cell_type": "code",
   "execution_count": 17,
   "metadata": {},
   "outputs": [],
   "source": [
    "import numpy as np\n",
    "import pandas as pd\n",
    "from sklearn.cross_validation import train_test_split\n",
    "from matplotlib import pyplot as plt"
   ]
  },
  {
   "cell_type": "code",
   "execution_count": 36,
   "metadata": {},
   "outputs": [],
   "source": [
    "#Simple Two Features Data With 0 / 1 Label\n",
    "\n",
    "data = [[2, 1.5, 0],\n",
    "        [2.5, .5, 0],\n",
    "        [3.5, 2, 1],\n",
    "        [4.5, 2, 1],\n",
    "        [3, 1.5, 1],\n",
    "        [1.5, 2, 0],\n",
    "        [4, 1.5, 1],\n",
    "        [5, 2.5, 1],\n",
    "        [3, .5, 0],\n",
    "        [1.5, .5, 0]]\n",
    "\n",
    "test_value = [3.5, 2, 1]"
   ]
  },
  {
   "cell_type": "code",
   "execution_count": 40,
   "metadata": {},
   "outputs": [
    {
     "data": {
      "image/png": "[encoded data removed]",
      "text/plain": [
       "<Figure size 432x288 with 1 Axes>"
      ]
     },
     "metadata": {
      "needs_background": "light"
     },
     "output_type": "display_data"
    }
   ],
   "source": [
    "#plot data\n",
    "\n",
    "def viz_data():\n",
    "    plt.axis([0,6,0,6])\n",
    "    plt.grid()\n",
    "    for i in range(len(data)):\n",
    "        point = data[i]\n",
    "        color = \"b\"\n",
    "        if point[2] == 0:\n",
    "            color = \"g\"\n",
    "        plt.scatter(point[0], point[1], c=color)\n",
    "    plt.scatter(test_value[0], test_value[1], c=\"r\")\n",
    "\n",
    "viz_data()"
   ]
  },
  {
   "cell_type": "code",
   "execution_count": 13,
   "metadata": {},
   "outputs": [],
   "source": [
    "w1 = np.random.randn()\n",
    "w2 = np.random.randn()\n",
    "b = np.random.randn()"
   ]
  },
  {
   "cell_type": "code",
   "execution_count": 15,
   "metadata": {},
   "outputs": [],
   "source": [
    "def sigmoid(x):\n",
    "    return 1/(1 + np.exp(-x))\n",
    "\n",
    "def sigmoid_derv(x):\n",
    "    return sigmoid(x) * (1 - sigmoid(x))"
   ]
  },
  {
   "cell_type": "code",
   "execution_count": 19,
   "metadata": {},
   "outputs": [
    {
     "data": {
      "text/plain": [
       "[<matplotlib.lines.Line2D at 0x1a21c7b510>]"
      ]
     },
     "execution_count": 19,
     "metadata": {},
     "output_type": "execute_result"
    },
    {
     "data": {
      "image/png": "[encoded data removed]",
      "text/plain": [
       "<Figure size 432x288 with 1 Axes>"
      ]
     },
     "metadata": {
      "needs_background": "light"
     },
     "output_type": "display_data"
    }
   ],
   "source": [
    "#Training loop\n",
    "\n",
    "learning = 0.1\n",
    "cost_list = []\n",
    "\n",
    "for i in range(10000):\n",
    "    index = np.random.randint(len(data))\n",
    "    entity = data[index]\n",
    "\n",
    "    z = entity[0] * w1 + entity[1] * w2 + b\n",
    "    pred = sigmoid(z)\n",
    "\n",
    "    target = entity[2]\n",
    "    cost = np.square(pred - target)\n",
    "\n",
    "    if i % 1000 == 0:\n",
    "        cost_list.append(cost)\n",
    "        #print(cost_list.append(cost))\n",
    "    \n",
    "    dcost_pred = 2 * (pred - target)\n",
    "    dpred_dz = sigmoid_derv(z)\n",
    "    dz_dw1 = entity[0]\n",
    "    dz_dw2 = entity[1]\n",
    "    dz_db = 1\n",
    "\n",
    "    dcost_dw1 = dcost_pred * dpred_dz * dz_dw1\n",
    "    dcost_dw2 = dcost_pred * dpred_dz * dz_dw2\n",
    "    dcost_db = dcost_pred * dpred_dz * dz_db\n",
    "\n",
    "    w1 = w1 - learning * dcost_dw1 \n",
    "    w2 = w2 - learning * dcost_dw2 \n",
    "    b = b - learning * dcost_db\n",
    "    \n",
    "plt.plot(cost_list)"
   ]
  },
  {
   "cell_type": "code",
   "execution_count": 22,
   "metadata": {},
   "outputs": [
    {
     "name": "stdout",
     "output_type": "stream",
     "text": [
      "(3.5796884208761033, 3.3507330515547533, -14.240162251935173)\n"
     ]
    }
   ],
   "source": [
    "#weights and bias values after gradient descent cost minimizing\n",
    "\n",
    "print(w1,w2,b)"
   ]
  },
  {
   "cell_type": "code",
   "execution_count": 32,
   "metadata": {},
   "outputs": [
    {
     "name": "stdout",
     "output_type": "stream",
     "text": [
      "0.9932417715906146\n"
     ]
    }
   ],
   "source": [
    "#predict some unknown values\n",
    "\n",
    "pz = test_value[0]*w1 + test_value[1]*w2 + b\n",
    "pred = sigmoid(pz)\n",
    "print(pred)"
   ]
  },
  {
   "cell_type": "code",
   "execution_count": 43,
   "metadata": {},
   "outputs": [
    {
     "data": {
      "image/png": "[encoded data removed]",
      "text/plain": [
       "<Figure size 432x288 with 1 Axes>"
      ]
     },
     "metadata": {
      "needs_background": "light"
     },
     "output_type": "display_data"
    }
   ],
   "source": [
    "#plot prediction result in 2D plane\n",
    "\n",
    "for x in np.linspace(0,6,20):\n",
    "    for y in np.linspace(0,6,20):\n",
    "        pred = sigmoid(w1*x+w2*y+b)\n",
    "        c = \"g\"\n",
    "        if pred > .5:\n",
    "            c = \"b\"\n",
    "        plt.scatter([x],[y],c = c, alpha = .2)\n",
    "\n",
    "viz_data()"
   ]
  },
  {
   "cell_type": "code",
   "execution_count": null,
   "metadata": {},
   "outputs": [],
   "source": []
  }
 ],
 "metadata": {
  "kernelspec": {
   "display_name": "Python 2",
   "language": "python",
   "name": "python2"
  },
  "language_info": {
   "codemirror_mode": {
    "name": "ipython",
    "version": 2
   },
   "file_extension": ".py",
   "mimetype": "text/x-python",
   "name": "python",
   "nbconvert_exporter": "python",
   "pygments_lexer": "ipython2",
   "version": "2.7.15"
  }
 },
 "nbformat": 4,
 "nbformat_minor": 2
}
